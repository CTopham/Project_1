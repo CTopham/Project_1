{
 "cells": [
  {
   "cell_type": "code",
   "execution_count": null,
   "metadata": {},
   "outputs": [],
   "source": [
    "#Install omdb library\n",
    "!pip install omdb\n",
    "\n",
    "#Dependencies\n",
    "import pandas as pd\n",
    "import numpy as np\n",
    "#import os as os\n",
    "#import csv\n",
    "import json\n",
    "import math\n",
    "import seaborn as sns\n",
    "import matplotlib.pyplot as plt\n",
    "import requests\n",
    "import json\n",
    "import omdb\n",
    "import time\n",
    "\n",
    "from pprint import pprint\n",
    "from config import omdb_key\n",
    "\n",
    "# Import and Initialize Sentiment Analyzer\n",
    "from vaderSentiment.vaderSentiment import SentimentIntensityAnalyzer\n",
    "analyzer = SentimentIntensityAnalyzer()"
   ]
  },
  {
   "cell_type": "code",
   "execution_count": null,
   "metadata": {},
   "outputs": [],
   "source": [
    "#Pulling in Data\n",
    "csv_path = \"Resources/tmdb_5000_credits.csv\"\n",
    "csv_path2 = \"Resources/tmdb_5000_movies.csv\"\n",
    "movie_actor_df=pd.read_csv(\"Resources\\movies_actors.csv\")\n",
    "movies_money_df=pd.read_csv(\"Resources\\movies.csv\")\n",
    "actors = pd.read_csv(csv_path, encoding=\"utf-8\")\n",
    "movies = pd.read_csv(csv_path2, encoding=\"utf-8\")\n",
    "actors_df = pd.read_csv(csv_path)"
   ]
  },
  {
   "cell_type": "markdown",
   "metadata": {},
   "source": [
    "# Numbers of movies released through years\n",
    "The chart below shows total number of movies from the original (not cleaned) dataset. All unique entries except 4 candidates for duplicates."
   ]
  },
  {
   "cell_type": "code",
   "execution_count": null,
   "metadata": {},
   "outputs": [],
   "source": [
    "\n",
    "movies = pd.read_csv(\"Resources/tmdb_5000_movies.csv\")\n",
    "movies_df = pd.DataFrame(movies)\n",
    "movies_df['Release Year']=movies_df['release_date'].str[:4].astype(float)\n",
    "\n",
    "movies_count_by_year=movies_df.groupby(by=\"Release Year\")[\"title\"].count().reset_index().rename(columns={\"title\":\"Released Movies Count\"})\n",
    "\n",
    "sns.set_style(style='whitegrid',rc={'axes.linewidth': 2.0, 'legend.frameon': True, 'grid.linestyle': u'--',  'legend.scatterpoints': 1, 'font.size': 10, 'axes.labelsize': 10, 'legend.fontsize': 10, 'axes.titlesize': 8, 'xtick.labelsize': 12, 'ytick.labelsize': 10})\n",
    "plt.figure(figsize=(10,6)) # updated\n",
    "movies_count_by_year.plot(x=\"Release Year\",y=\"Released Movies Count\", ax = plt.gca()) # updated\n",
    "plt.xticks(np.arange(1900,2021,10))\n",
    "plt.yticks(np.arange(0,250,25))\n",
    "plt.title(\"Numbers of Movie Releases Over the Years\")# added\n",
    "plt.savefig(\"Images/Numbers of Movie Releases Over the Years.png\",dpi=300) #added\n",
    "plt.show()"
   ]
  },
  {
   "cell_type": "markdown",
   "metadata": {},
   "source": [
    "# Buckets by Release Year\n",
    "Because of large difference in numbers of movies released over the years, the movies are broken down into release year buckets."
   ]
  },
  {
   "cell_type": "code",
   "execution_count": null,
   "metadata": {},
   "outputs": [],
   "source": [
    "#updated\n",
    "year_buckets=[1960,1995]\n",
    "movie_year_bucket=[]\n",
    "movie_year_bucket_no=[]\n",
    "year_buckets_labels=[]\n",
    "for i in range(0,len(year_buckets)+1):\n",
    "    if i==0:\n",
    "        year_buckets_labels.append(\"before \"+str(year_buckets[0]))\n",
    "    elif i==len(year_buckets):\n",
    "        year_buckets_labels.append(\"after \"+str(year_buckets[-1]))\n",
    "    else:\n",
    "        year_buckets_labels.append(str(year_buckets[i-1])+\" to \"+str(year_buckets[i]))\n",
    "\n",
    "for index,row in movies_money_df.iterrows():\n",
    "    if row[\"Release Year\"]<year_buckets[0]:\n",
    "        movie_year_bucket.append(year_buckets_labels[0])\n",
    "        movie_year_bucket_no.append(1)\n",
    "    elif row[\"Release Year\"]>=year_buckets[-1]:\n",
    "        movie_year_bucket.append(year_buckets_labels[-1])\n",
    "        movie_year_bucket_no.append(len(year_buckets)+1)\n",
    "    else:\n",
    "        ok=False\n",
    "        for i in range(len(year_buckets)-1):\n",
    "            if(year_buckets[i]<=row[\"Release Year\"]<year_buckets[i+1]):\n",
    "                movie_year_bucket.append(year_buckets_labels[i+1])\n",
    "                movie_year_bucket_no.append(i+2)                \n",
    "                ok=True\n",
    "        if(ok==False):\n",
    "            movie_year_bucket.append(\"undefined\")\n",
    "            movie_year_bucket_no.append(0)\n",
    "            \n",
    "movies_money_df[\"Years\"]=movie_year_bucket\n",
    "movies_money_df[\"Release Years Bucket\"]=movie_year_bucket_no\n",
    "year_buckets_labels"
   ]
  },
  {
   "cell_type": "markdown",
   "metadata": {},
   "source": [
    "# Buckets by Budget\n",
    "Because of large difference in budgets, we break down movies into budget buckets"
   ]
  },
  {
   "cell_type": "code",
   "execution_count": null,
   "metadata": {},
   "outputs": [],
   "source": [
    "#modified, replace budget to budget\n",
    "budget_buckets=[0.5,10,100] #updated\n",
    "budget_bucket=[]\n",
    "budget_bucket_no=[]\n",
    "budget_buckets_labels=[]\n",
    "units_str=\"USD mln\"\n",
    "for i in range(0,len(budget_buckets)+1):\n",
    "    if i==0:\n",
    "        budget_buckets_labels.append(\"<\"+str(budget_buckets[0])+\" \"+units_str)\n",
    "    elif i==len(budget_buckets):\n",
    "        budget_buckets_labels.append(\">\"+str(budget_buckets[-1])+\" \"+units_str)\n",
    "    else:\n",
    "        budget_buckets_labels.append(str(budget_buckets[i-1])+\"-\"+str(budget_buckets[i])+\" \"+units_str)\n",
    "        \n",
    "for index,row in movies_money_df.iterrows():\n",
    "    if row[\"Budget Adjusted, USD mln\"]<budget_buckets[0]:\n",
    "        budget_bucket.append(budget_buckets_labels[0])\n",
    "        budget_bucket_no.append(1)\n",
    "    elif row[\"Budget Adjusted, USD mln\"]>=budget_buckets[-1]:\n",
    "        budget_bucket.append(budget_buckets_labels[-1])\n",
    "        budget_bucket_no.append(len(budget_buckets)+1)\n",
    "    else:\n",
    "        ok=False\n",
    "        for i in range(len(budget_buckets)-1):#updated\n",
    "            if(budget_buckets[i]<=row[\"Budget Adjusted, USD mln\"]<budget_buckets[i+1]):\n",
    "                budget_bucket.append(budget_buckets_labels[i+1])\n",
    "                budget_bucket_no.append(i+2)\n",
    "                ok=True\n",
    "        if(ok==False):\n",
    "            budget_bucket.append(\"undefined\")\n",
    "            budget_bucket_no.append(0)\n",
    "            \n",
    "\n",
    "movies_money_df[\"Budget Tier\"]=budget_bucket\n",
    "movies_money_df[\"Budget Tier No\"]=budget_bucket_no\n",
    "budget_buckets_labels"
   ]
  },
  {
   "cell_type": "markdown",
   "metadata": {},
   "source": [
    "# Revenues by release year and revenue tiers"
   ]
  },
  {
   "cell_type": "code",
   "execution_count": null,
   "metadata": {},
   "outputs": [],
   "source": [
    "g = sns.FacetGrid(movies_money_df[~movies_money_df[\"Outlier\"]], row=\"Budget Tier\", row_order=list(reversed(budget_buckets_labels)), col=\"Years\", col_order=year_buckets_labels, sharex=False, sharey=False, hue=\"Budget Tier\", hue_order=list(reversed(budget_buckets_labels)), size=1.5,aspect=3) #updated\n",
    "g = g.map(plt.scatter, 'Release Year', 'Revenue Adjusted, USD mln', marker='.')\n",
    "plt.suptitle(\"Revenue vs Release Year - by Release Year and Budget Buckets\")\n",
    "plt.savefig(\"Images/Revenue vs Release Year - by Release Year and Budget Buckets.png\",dpi=300) #added\n",
    "g.fig.subplots_adjust(top=.9)\n",
    "plt.show()"
   ]
  },
  {
   "cell_type": "markdown",
   "metadata": {},
   "source": [
    "## Analysis of Average Vote data"
   ]
  },
  {
   "cell_type": "markdown",
   "metadata": {},
   "source": [
    "### Average Vote vs. Budget"
   ]
  },
  {
   "cell_type": "code",
   "execution_count": null,
   "metadata": {},
   "outputs": [],
   "source": [
    "\n",
    "g = sns.FacetGrid(movies_money_df[(movies_money_df[\"Outlier\"]==False) & (movies_money_df[\"Average Vote\"]>0)], col=\"Years\", col_order=year_buckets_labels, sharex=True, sharey=True, hue=\"Budget Tier\", hue_order=list(reversed(budget_buckets_labels)), size=4.5,aspect=0.85) #updated\n",
    "g = g.map(plt.scatter, 'Budget Adjusted, USD mln', 'Average Vote', edgecolor=\"w\", marker='o')#updated\n",
    "plt.suptitle(\"Average Vote vs. Budget - by Release Year Buckets\")\n",
    "g.fig.subplots_adjust(top=.85)\n",
    "plt.savefig(\"Images/Average Vote vs Budget - by Release Year Buckets.png\",dpi=300) #added\n",
    "plt.show()"
   ]
  },
  {
   "cell_type": "markdown",
   "metadata": {},
   "source": [
    "### Average Vote vs. Revenue\n"
   ]
  },
  {
   "cell_type": "code",
   "execution_count": null,
   "metadata": {},
   "outputs": [],
   "source": [
    "g = sns.FacetGrid(movies_money_df[(movies_money_df[\"Outlier\"]==False) & (movies_money_df[\"Average Vote\"]>0)], col=\"Years\", col_order=year_buckets_labels, sharex=True, sharey=True, hue=\"Budget Tier\", hue_order=list(reversed(budget_buckets_labels)),size=4.5,aspect=0.85) #updated\n",
    "g = g.map(plt.scatter, 'Revenue Adjusted, USD mln', 'Average Vote', edgecolor=\"w\", marker='o')#updated\n",
    "plt.suptitle(\"Average Vote vs. Revenue - by Release Year Buckets\")\n",
    "g.fig.subplots_adjust(top=.85)\n",
    "plt.savefig(\"Images/Average Vote vs Revenue - by Release Year Buckets.png\",dpi=300) #added\n",
    "plt.show()"
   ]
  },
  {
   "cell_type": "markdown",
   "metadata": {},
   "source": [
    "### Average Vote vs. Popularity of Starring Actors"
   ]
  },
  {
   "cell_type": "code",
   "execution_count": null,
   "metadata": {},
   "outputs": [],
   "source": [
    "\n",
    "g = sns.FacetGrid(movies_money_df[(movies_money_df[\"Outlier\"]==False) & (movies_money_df[\"Average Vote\"]>0)], col=\"Years\", col_order=year_buckets_labels, sharex=True, sharey=True, hue=\"Budget Tier\", hue_order=list(reversed(budget_buckets_labels)),size=4.5,aspect=0.85)\n",
    "g=g.map(plt.scatter, 'Starring Actors Popularity', 'Average Vote', edgecolor=\"w\", marker='o')#updated\n",
    "plt.suptitle(\"Average Vote vs. Starring Actor Popularity - by Release Year Buckets\")\n",
    "g.fig.subplots_adjust(top=.85)\n",
    "plt.savefig(\"Images/Average Vote vs Starring actor popularity - by Release Year Buckets.png\",dpi=300) #added\n",
    "plt.show()"
   ]
  },
  {
   "cell_type": "code",
   "execution_count": null,
   "metadata": {},
   "outputs": [],
   "source": [
    "\n",
    "g = sns.pairplot(movies_money_df[(movies_money_df[\"Outlier\"]==False) & (movies_money_df[\"Average Vote\"]>0)], x_vars=\"Revenue Adjusted, USD mln\", y_vars=\"Average Vote\", hue=\"Budget Tier\", hue_order=list(reversed(budget_buckets_labels)),size=5,aspect=1.5)\n",
    "plt.suptitle(\"Average Vote vs. Revenues\")\n",
    "plt.savefig(\"Images/Average Vote vs Revenues.png\",dpi=300) #added\n",
    "plt.show()"
   ]
  },
  {
   "cell_type": "markdown",
   "metadata": {},
   "source": [
    "# Average vote - Conclusions\n",
    "-On the assumption that the vote data is authenic, the higher is either of the above factots considered, less likely the movie quality is estimated low\n",
    "\n",
    "-On the other hand, the estimate/vote does not necessarily increase with increase of any of the above considered factors\n",
    "\n",
    "-Revenue does not indicate the quality of a movie. Movies with low revenues are estimated as high as the movies with high revenues. Same for movie budgets"
   ]
  },
  {
   "cell_type": "markdown",
   "metadata": {},
   "source": [
    "# Analysis of Impact of Starring Actor Popularity Factor"
   ]
  },
  {
   "cell_type": "code",
   "execution_count": null,
   "metadata": {},
   "outputs": [],
   "source": [
    "g = sns.pairplot(movies_money_df[(movies_money_df[\"Outlier\"]==False) & (movies_money_df[\"Average Vote\"]>0)], x_vars=\"Starring Actors Popularity\", y_vars=\"Average Vote\", hue=\"Budget Tier\", hue_order=list(reversed(budget_buckets_labels)),size=5,aspect=1.5)\n",
    "plt.suptitle(\"Average Vote vs. Starring Actors Popularity\")\n",
    "plt.savefig(\"Images/Average Vote vs Starring actor popularity.png\",dpi=300) #added\n",
    "plt.show()"
   ]
  },
  {
   "cell_type": "code",
   "execution_count": null,
   "metadata": {},
   "outputs": [],
   "source": [
    "g = sns.jointplot(data=movies_money_df[(movies_money_df[\"Outlier\"]==False) & (movies_money_df[\"Average Vote\"]>0)], kind=\"kde\",x=\"Starring Actors Popularity\", y=\"Average Vote\", size=5)\n",
    "plt.suptitle(\"Average Vote vs. Starring Actors Popularity - Density\")\n",
    "g.fig.subplots_adjust(top=.95)\n",
    "plt.savefig(\"Images/Average Vote vs Starring actor popularity - density.png\",dpi=300) #added\n",
    "plt.show()"
   ]
  },
  {
   "cell_type": "code",
   "execution_count": null,
   "metadata": {},
   "outputs": [],
   "source": [
    "g = sns.pairplot(movies_money_df[~movies_money_df[\"Outlier\"]], x_vars=\"Starring Actors Popularity\", y_vars=\"Revenue Adjusted, USD mln\", hue=\"Budget Tier\", hue_order=list(reversed(budget_buckets_labels)),size=5,aspect=1.5)\n",
    "plt.suptitle(\"Revenue vs. Starring Actors Popularity\")\n",
    "plt.savefig(\"Images/Revenue vs Starring actor popularity.png\",dpi=300) #added\n",
    "plt.show()"
   ]
  },
  {
   "cell_type": "code",
   "execution_count": null,
   "metadata": {},
   "outputs": [],
   "source": [
    "g = sns.jointplot(data=movies_money_df[movies_money_df[\"Outlier\"]==False], kind=\"kde\",x=\"Starring Actors Popularity\", y=\"Revenue Adjusted, USD mln\", size=5)\n",
    "plt.suptitle(\"Revenue vs. Starring Actors Popularity - Density\")\n",
    "g.fig.subplots_adjust(top=.95)\n",
    "plt.savefig(\"Images/Revenue vs Starring actor popularity - density.png\",dpi=300) #added\n",
    "plt.show()"
   ]
  },
  {
   "cell_type": "markdown",
   "metadata": {},
   "source": [
    "# Impact of Starring Actor Popularity Factor - Conclusions"
   ]
  },
  {
   "cell_type": "markdown",
   "metadata": {},
   "source": [
    "- Although the popularity af starring actors has a weak impact of revenues, it is not a determining factor."
   ]
  },
  {
   "cell_type": "markdown",
   "metadata": {},
   "source": [
    "## Analysis of impact of Movie Budget on Revenue"
   ]
  },
  {
   "cell_type": "code",
   "execution_count": null,
   "metadata": {},
   "outputs": [],
   "source": [
    "#movies_money_df.sort_values([\"Release Years Bucket\"],ascending=[True],inplace=True)\n",
    "max_budget=movies_money_df[movies_money_df[\"Outlier\"]==False][\"Budget Adjusted, USD mln\"].values.max()\n",
    "g = sns.FacetGrid(movies_money_df[movies_money_df[\"Outlier\"]==False], col=\"Years\", col_order=year_buckets_labels, hue=\"Budget Tier\", hue_order=list(reversed(budget_buckets_labels)), sharex=True, sharey=True, size=5,aspect=0.45) \n",
    "g = g.map(plt.scatter,  'Budget Adjusted, USD mln', 'Revenue Adjusted, USD mln',edgecolor=\"w\",  marker='.')\n",
    "plt.suptitle(\"Revenue vs. Budget - by Release Year buckets\")\n",
    "g.fig.subplots_adjust(top=.90)\n",
    "plt.savefig(\"Images/Revenue vs Budget - by Release Year buckets.png\",dpi=300) #added\n",
    "plt.show()"
   ]
  },
  {
   "cell_type": "code",
   "execution_count": null,
   "metadata": {},
   "outputs": [],
   "source": [
    "g = sns.pairplot(movies_money_df[~movies_money_df[\"Outlier\"]], x_vars=\"Budget Adjusted, USD mln\", y_vars=\"Revenue Adjusted, USD mln\", hue=\"Budget Tier\", hue_order=list(reversed(budget_buckets_labels)),size=5,aspect=1.5)\n",
    "plt.suptitle(\"Revenue vs. Budget\")\n",
    "plt.savefig(\"Images/Revenue vs Budget.png\",dpi=300) #added\n",
    "plt.show()"
   ]
  },
  {
   "cell_type": "code",
   "execution_count": null,
   "metadata": {},
   "outputs": [],
   "source": [
    "g = sns.jointplot(data=movies_money_df[movies_money_df[\"Outlier\"]==False], kind=\"kde\",x=\"Budget Adjusted, USD mln\", y=\"Revenue Adjusted, USD mln\", size=5)\n",
    "plt.suptitle(\"Revenue vs. Budget - Density\")\n",
    "g.fig.subplots_adjust(top=.95)\n",
    "plt.savefig(\"Images/Revenue vs Budget - density.png\",dpi=300) #added\n",
    "plt.show()"
   ]
  },
  {
   "cell_type": "markdown",
   "metadata": {},
   "source": [
    "# Impact of Movie Budget on Revenue - conclusions"
   ]
  },
  {
   "cell_type": "markdown",
   "metadata": {},
   "source": [
    "- Film revenues do have considerable linear dependency on budgets, although the variance is high."
   ]
  },
  {
   "cell_type": "markdown",
   "metadata": {},
   "source": [
    "# Actor Deep Dive - Part 2"
   ]
  },
  {
   "cell_type": "code",
   "execution_count": null,
   "metadata": {},
   "outputs": [],
   "source": [
    "#Clean up df headers\n",
    "actors.columns = ['ID', 'Title', 'Cast', 'Crew']"
   ]
  },
  {
   "cell_type": "code",
   "execution_count": null,
   "metadata": {},
   "outputs": [],
   "source": [
    "#Create input option for actor name\n",
    "actor_name = input (\"What actor would you like to know about?\")"
   ]
  },
  {
   "cell_type": "code",
   "execution_count": null,
   "metadata": {},
   "outputs": [],
   "source": [
    "#Display number of movies acted in\n",
    "selected_actor = actors[actors['Cast'].str.contains(actor_name)]\n",
    "selected_actor = selected_actor.reset_index(drop=True)\n",
    "moviecount = len(selected_actor.index)\n",
    "print (str(actor_name) + \" has been in \" + str(moviecount) + \" movies\")"
   ]
  },
  {
   "cell_type": "code",
   "execution_count": null,
   "metadata": {},
   "outputs": [],
   "source": [
    "#Display list of movies acted in\n",
    "print (str(actor_name) + \" has been in the following movies\")\n",
    "movies_played_in = pd.DataFrame(selected_actor[\"Title\"])\n",
    "movies_played_in"
   ]
  },
  {
   "cell_type": "code",
   "execution_count": null,
   "metadata": {},
   "outputs": [],
   "source": [
    "#Create empty df\n",
    "movies_played_in[\"Year Released\"] = \"\"\n",
    "movies_played_in[\"Rated\"] = \"\"\n",
    "movies_played_in[\"Rotten Tomato\"] = \"\"\n",
    "movies_played_in[\"Meta Score\"] = \"\"\n",
    "movies_played_in[\"Plot Sentiment\"] = \"\"\n",
    "movies_played_in[\"Plot\"] = \"\"\n",
    "movies_played_in[\"Genre\"] = \"\"\n",
    "movies_played_in.head()"
   ]
  },
  {
   "cell_type": "code",
   "execution_count": null,
   "metadata": {},
   "outputs": [],
   "source": [
    "#Access the data from Omdb\n",
    "print(\"Beginning Data Retrieval\")\n",
    "print(\"---------------------------------------------------------------\")\n",
    "\n",
    "#Loop through df\n",
    "for index, row in movies_played_in.iterrows():\n",
    "    movie_pull = row[\"Title\"]\n",
    "         \n",
    "    \n",
    "    try:\n",
    "        url = \"http://www.omdbapi.com/?t=%s&apikey=%s\" % (movie_pull, omdb_key)\n",
    "        \n",
    "        #Print log of movie being processed\n",
    "        print(f\"Now retrieving Movie Data for: \" + movie_pull)\n",
    "       \n",
    "        #Run requests to API\n",
    "        movie_data = requests.get(url).json()\n",
    "        pprint(movie_data)\n",
    "        \n",
    "        #Defining variables\n",
    "        RT = movie_data[\"Ratings\"][1][\"Value\"]\n",
    "        Meta = movie_data[\"Metascore\"]\n",
    "        Year = movie_data[\"Year\"]\n",
    "        Rated = movie_data[\"Rated\"]\n",
    "        Plot = movie_data[\"Plot\"]\n",
    "        Sent = analyzer.polarity_scores(Plot)[\"compound\"]\n",
    "        Genre = movie_data[\"Genre\"]\n",
    "        \n",
    "        #Add to df\n",
    "        movies_played_in.set_value(index, \"Rated\", Rated)\n",
    "        movies_played_in.set_value(index, \"Year Released\", Year)\n",
    "        movies_played_in.set_value(index, \"Rotten Tomato\", RT)\n",
    "        movies_played_in.set_value(index, \"Meta Score\", Meta)\n",
    "        movies_played_in.set_value(index, \"Plot\", Plot)\n",
    "        movies_played_in.set_value(index, \"Plot Sentiment\", Sent)\n",
    "        movies_played_in.set_value(index, \"Genre\", Genre)\n",
    "        \n",
    "    except:\n",
    "        movies_played_in.set_value(index, \"Year Released\", \"N/A\")\n",
    "        movies_played_in.set_value(index, \"Rated,\", \"N/A\")\n",
    "        movies_played_in.set_value(index, \"Rotten Tomato\", \"N/A\")\n",
    "        movies_played_in.set_value(index, \"Meta Score\", \"N/A\")\n",
    "        movies_played_in.set_value(index, \"Plot Sentiment\", \"N/A\")\n",
    "        movies_played_in.set_value(index, \"Plot\", \"N/A\")\n",
    "        movies_played_in.set_value(index, \"Genre\", \"N/A\")\n",
    "        \n",
    "#Display last movie json    \n",
    "pprint(movie_data)"
   ]
  },
  {
   "cell_type": "code",
   "execution_count": null,
   "metadata": {},
   "outputs": [],
   "source": [
    "#Format and display\n",
    "movies_played_in.sort_values([\"Year Released\"], ascending=True, inplace=True)\n",
    "movies_played_in = movies_played_in.reset_index(drop=True)\n",
    "movies_played_in.head()"
   ]
  },
  {
   "cell_type": "code",
   "execution_count": null,
   "metadata": {},
   "outputs": [],
   "source": [
    "#Replace inconsistent data\n",
    "movies_played_in['Rotten Tomato'] = movies_played_in['Rotten Tomato'].str.replace('%','')\n",
    "movies_played_in['Rotten Tomato'] = movies_played_in['Rotten Tomato'].str.replace('/100','')\n",
    "movies_played_in['Rotten Tomato'] = movies_played_in['Rotten Tomato'].str.replace('N/A','')\n",
    "movies_played_in['Meta Score'] = movies_played_in['Meta Score'].str.replace('%','')\n",
    "movies_played_in['Meta Score'] = movies_played_in['Meta Score'].str.replace('NaN','')\n",
    "movies_played_in['Meta Score'] = movies_played_in['Meta Score'].str.replace('/100','')\n",
    "movies_played_in['Meta Score'] = movies_played_in['Meta Score'].str.replace('N/A','')\n",
    "movies_played_in['Year Released'] = movies_played_in['Year Released'].str.replace('N/A','')"
   ]
  },
  {
   "cell_type": "code",
   "execution_count": null,
   "metadata": {},
   "outputs": [],
   "source": [
    "#Converting string values to numerics\n",
    "movies_played_in[\"Meta Score\"] = pd.to_numeric(movies_played_in[\"Meta Score\"])\n",
    "movies_played_in['Rotten Tomato'] = pd.to_numeric(movies_played_in['Rotten Tomato'])\n",
    "movies_played_in['Plot Sentiment'] = pd.to_numeric(movies_played_in['Plot Sentiment'])\n",
    "movies_played_in['Year Released'] = pd.to_numeric(movies_played_in['Year Released'])"
   ]
  },
  {
   "cell_type": "code",
   "execution_count": null,
   "metadata": {},
   "outputs": [],
   "source": [
    "from scipy.stats import linregress\n",
    "#Set figure size\n",
    "plt.figure(figsize=(10,6))\n",
    "\n",
    "#Create Trendline\n",
    "fake = movies_played_in[\"Rotten Tomato\"]\n",
    "(slope, intercept, _,_ , _) = linregress(movies_played_in[\"Year Released\"], fake)\n",
    "fit = slope * movies_played_in[\"Year Released\"] + intercept\n",
    "\n",
    "#Aesthetics\n",
    "plt.title(\"Movie Release Date vs. Rotten Tomatoes Score \" + \"(\" + time.strftime(\"%m/%d/%Y\") + \")\", fontsize=20)\n",
    "plt.xlabel(\"Year Released\", fontsize=16)\n",
    "plt.xticks(rotation= 90)\n",
    "plt.ylabel(\"Rotten Tomatoes Score\", fontsize=16)\n",
    "\n",
    "#Create scatter plots\n",
    "plt.scatter(movies_played_in[\"Year Released\"], movies_played_in[\"Rotten Tomato\"], color= \"green\", edgecolor= \"black\",\n",
    "label= \"Rotten Tomatoes Score\", s=140, alpha = 0.75)\n",
    "plt.legend(bbox_to_anchor= (1.3, 1), title= actor_name + \" Movies\", fontsize= \"medium\")\n",
    "\n",
    "#Display Trendline\n",
    "plt.plot(movies_played_in[\"Year Released\"], fit, \"b--\")\n",
    "\n",
    "#Save plot as PNG image\n",
    "plt.savefig(\"Images/Movie_Release_Date_vs._Rotten_Tomoatoes_Score.png\", bbox_inches= \"tight\")\n",
    "\n",
    "#Display scatter plots\n",
    "plt.grid()\n",
    "plt.show()"
   ]
  },
  {
   "cell_type": "code",
   "execution_count": null,
   "metadata": {},
   "outputs": [],
   "source": [
    "#Set size of bar plots\n",
    "plt.figure(figsize=(10,6))\n",
    "\n",
    "#Create line graph\n",
    "plt.plot(movies_played_in[\"Year Released\"],movies_played_in[\"Plot Sentiment\"], color= \"Red\", marker= \"o\", linestyle= \"dashed\",\n",
    "linewidth= 2, markersize= 6)\n",
    "\n",
    "#Aesthetics\n",
    "plt.title(\"Release Date vs. Sentiment Score \" + \"(\" + time.strftime(\"%m/%d/%Y\") + \")\", fontsize=20)\n",
    "plt.xlabel(\"Release Date\", fontsize=12)\n",
    "plt.xticks(rotation= 90)\n",
    "plt.ylabel(\"Compound Sentiment Score of Plot Summary\", fontsize=12)\n",
    "\n",
    "\n",
    "#Save plot as PNG image\n",
    "plt.savefig(\"Images/Movie_Release_Date_vs._Sentiment_Score.png\", bbox_inches= \"tight\")\n",
    "\n",
    "#Display Output\n",
    "plt.show()"
   ]
  },
  {
   "cell_type": "code",
   "execution_count": null,
   "metadata": {},
   "outputs": [],
   "source": [
    "#Set size of bar plots\n",
    "plt.figure(figsize=(10,6))\n",
    "\n",
    "#Create bar plots for comparing the results of compound sentiment score for each movie plot\n",
    "plt.bar(movies_played_in[\"Title\"], movies_played_in[\"Plot Sentiment\"], color= \"lightblue\", edgecolor= \"black\", width= 1)\n",
    "\n",
    "#Aesthetics\n",
    "plt.title(\"Movie Title vs. Sentiment Score \" + \"(\" + time.strftime(\"%m/%d/%Y\") + \")\", fontsize=20)\n",
    "plt.xlabel(\"Movie Title\", fontsize=12)\n",
    "plt.xticks(rotation= 90)\n",
    "plt.ylabel(\"Sentiment Score of Plot Summary\", fontsize=12)\n",
    "\n",
    "\n",
    "#Save plot as PNG image\n",
    "plt.savefig(\"Images/Movie_Title_vs._Sentiment_Score.png\", bbox_inches= \"tight\")\n",
    "\n",
    "#Display Output\n",
    "plt.show()"
   ]
  },
  {
   "cell_type": "code",
   "execution_count": null,
   "metadata": {},
   "outputs": [],
   "source": [
    "#Set size of pie chart\n",
    "plt.figure(figsize=(10,6))\n",
    "\n",
    "#Group \"final\" dataframe by \"Rated\"\n",
    "rating = movies_played_in.groupby(\"Rated\").count()\n",
    "final_rating = pd.DataFrame(rating)\n",
    "\n",
    "total_movies = rating[\"Title\"]\n",
    "\n",
    "#Set pie chart labels\n",
    "labels = total_movies.index\n",
    "\n",
    "#Define color and explode values for all pie chart use\n",
    "colors = [\"yellow\", \"lightgreen\", \"lightblue\", \"royalblue\"]\n",
    "\n",
    "#Create pie chart for \"% of Total Fares by City Type\"\n",
    "plt.pie(total_movies, startangle = 100, colors = colors, labels = labels,\n",
    "        autopct = \"%1.1f%%\", shadow = True, wedgeprops = {'linewidth': .5, 'edgecolor': 'black'})\n",
    "\n",
    "#Save plot as PNG image\n",
    "plt.savefig(\"Images/Percent_of_Movies_by_Rating.png\", bbox_inches= \"tight\")\n",
    "\n",
    "#Format display\n",
    "plt.title(\"% of Movies by Movie Rating\")\n",
    "plt.axis(\"equal\")\n",
    "plt.show()"
   ]
  },
  {
   "cell_type": "code",
   "execution_count": null,
   "metadata": {},
   "outputs": [],
   "source": [
    "#Export DataFrame as CSV\n",
    "movies_played_in.to_csv(\"Output/actor_movie_info.csv\")"
   ]
  },
  {
   "cell_type": "code",
   "execution_count": null,
   "metadata": {},
   "outputs": [],
   "source": []
  }
 ],
 "metadata": {
  "kernelspec": {
   "display_name": "Python 3",
   "language": "python",
   "name": "python3"
  },
  "language_info": {
   "codemirror_mode": {
    "name": "ipython",
    "version": 3
   },
   "file_extension": ".py",
   "mimetype": "text/x-python",
   "name": "python",
   "nbconvert_exporter": "python",
   "pygments_lexer": "ipython3",
   "version": "3.6.4"
  }
 },
 "nbformat": 4,
 "nbformat_minor": 2
}
